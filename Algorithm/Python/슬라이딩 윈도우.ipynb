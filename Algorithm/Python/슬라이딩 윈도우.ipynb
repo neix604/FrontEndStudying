{
 "cells": [
  {
   "cell_type": "markdown",
   "metadata": {},
   "source": [
    "# [12891번: DNA 비밀번호](https://www.acmicpc.net/problem/12891)"
   ]
  },
  {
   "cell_type": "code",
   "execution_count": 15,
   "metadata": {},
   "outputs": [
    {
     "name": "stdout",
     "output_type": "stream",
     "text": [
      "2\n"
     ]
    }
   ],
   "source": [
    "S, P = map(int, input().split())\n",
    "A = list(input())\n",
    "checkList = list(map(int, input().split()))\n",
    "userList = [0] * 4\n",
    "checkSecret = 0\n",
    "result = 0\n",
    "\n",
    "def addChar(c) :\n",
    "    global checkList, userList, checkSecret\n",
    "    \n",
    "    if c == 'A' :\n",
    "        userList[0] += 1\n",
    "        if userList[0] == checkList[0] :\n",
    "            checkSecret += 1\n",
    "    elif c == 'C' :\n",
    "        userList[1] += 1\n",
    "        if userList[1] == checkList[1] :\n",
    "            checkSecret += 1\n",
    "    elif c == 'G' :\n",
    "        userList[2] += 1\n",
    "        if userList[2] == checkList[2] :\n",
    "            checkSecret += 1\n",
    "    elif c == 'T' :\n",
    "        userList[3] += 1\n",
    "        if userList[3] == checkList[3] :\n",
    "            checkSecret += 1\n",
    "\n",
    "def subChar(c) :\n",
    "    global checkList, userList, checkSecret\n",
    "    \n",
    "    if c == 'A' :\n",
    "        if userList[0] == checkList[0] :\n",
    "            checkSecret -= 1\n",
    "        userList[0] -= 1\n",
    "    elif c == 'C' :\n",
    "        if userList[1] == checkList[1] :\n",
    "            checkSecret -= 1\n",
    "        userList[1] -= 1\n",
    "    elif c == 'G' :\n",
    "        if userList[2] == checkList[2] :\n",
    "            checkSecret -= 1\n",
    "        userList[2] -= 1\n",
    "    elif c == 'T' :\n",
    "        if userList[3] == checkList[3] :\n",
    "            checkSecret -= 1\n",
    "        userList[3] -= 1\n",
    "\n",
    "for i in range(4) :\n",
    "    if checkList[i] == 0 :\n",
    "        checkSecret += 1\n",
    "\n",
    "for i in range(P) :\n",
    "    addChar(A[i])\n",
    "\n",
    "if checkList == 4 :\n",
    "    result += 1\n",
    "\n",
    "for i in range(P, S) :\n",
    "    j = i - P\n",
    "    addChar(A[i])\n",
    "    subChar(A[j])\n",
    "    if checkSecret == 4 :\n",
    "        result += 1\n",
    "\n",
    "print(result)"
   ]
  }
 ],
 "metadata": {
  "kernelspec": {
   "display_name": "base",
   "language": "python",
   "name": "python3"
  },
  "language_info": {
   "codemirror_mode": {
    "name": "ipython",
    "version": 3
   },
   "file_extension": ".py",
   "mimetype": "text/x-python",
   "name": "python",
   "nbconvert_exporter": "python",
   "pygments_lexer": "ipython3",
   "version": "3.11.4"
  },
  "orig_nbformat": 4
 },
 "nbformat": 4,
 "nbformat_minor": 2
}
