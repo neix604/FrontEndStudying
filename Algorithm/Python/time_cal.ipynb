{
 "cells": [
  {
   "cell_type": "markdown",
   "metadata": {},
   "source": [
    "# 시간복잡도\n",
    "- 빅 오메가\n",
    "- 빅 세타\n",
    "- 빅 오\n",
    "\n",
    "코딩테스트에서는 빅 오를 기준으로 수행 시간을 계산하는 게 좋다.\n",
    "여러 케이스를 통과해야만 하기 때문에, 테스트 케이스의 데이터가 긴 경우에 시간 초과가 될 수 있기 때문이다."
   ]
  },
  {
   "cell_type": "code",
   "execution_count": 7,
   "metadata": {},
   "outputs": [
    {
     "name": "stdout",
     "output_type": "stream",
     "text": [
      "41 찾았다!\n",
      "41 번만에 찾았다!\n"
     ]
    }
   ],
   "source": [
    "import random\n",
    "\n",
    "cnt = 1\n",
    "findNumber = random.randrange(1, 101) # 1~100 사이의 난수 생성\n",
    "\n",
    "for i in range(1, 101) :\n",
    "    if i == findNumber :\n",
    "        print(i, '찾았다!')\n",
    "        print(cnt, '번만에 찾았다!')\n",
    "        break\n",
    "    cnt += 1"
   ]
  },
  {
   "cell_type": "markdown",
   "metadata": {},
   "source": [
    "# 슈도코드 작성\n",
    "프로그램을 만드는 데 필요한 변수와 함수 등을 미리 작성해본다.\n",
    "어떤 방식으로 코드를 짜야 할지 미리 그려보는 레이아웃 역할을 한다."
   ]
  },
  {
   "cell_type": "code",
   "execution_count": null,
   "metadata": {},
   "outputs": [],
   "source": [
    "# N 과목수 입력\n",
    "# scoreList에 점수 저장\n",
    "# maxScore에 scoreList의 최댓값 저장\n",
    "# sumScore에 scroeList의 점수 합계 저장\n",
    "# sumScore * 100 / maxScore / N\n",
    "# 정수를 한 줄로 입력해서 띄어쓰기를 기준으로 배열 생성"
   ]
  },
  {
   "cell_type": "markdown",
   "metadata": {},
   "source": [
    "# 슈도코드를 바탕으로 실제 코드 작성"
   ]
  },
  {
   "cell_type": "code",
   "execution_count": 5,
   "metadata": {},
   "outputs": [
    {
     "name": "stdout",
     "output_type": "stream",
     "text": [
      "66.66666666666667\n"
     ]
    }
   ],
   "source": [
    "n = int(input('과목 수: ')) # 입력받은 값을 정수형으로 저장\n",
    "scoreList = list(map(int, input('점수 입력: ').split())) # 공백을 기준으로 데이터 입력받음\n",
    "maxScore = max(scoreList)\n",
    "sumScore = sum(scoreList)\n",
    "\n",
    "print(sumScore * 100 / maxScore / n)"
   ]
  },
  {
   "cell_type": "markdown",
   "metadata": {},
   "source": [
    "# 수정된 점수와 평균 점수를 각각의 줄에 출력\n",
    "- 기존 점수를 수정해서 scoreList에 저장한다."
   ]
  },
  {
   "cell_type": "code",
   "execution_count": 12,
   "metadata": {},
   "outputs": [
    {
     "name": "stdout",
     "output_type": "stream",
     "text": [
      "[10, 20, 30]\n",
      "33.333333333333336\n",
      "66.66666666666667\n",
      "100.0\n",
      "66.66666666666667\n"
     ]
    }
   ],
   "source": [
    "# n에 과목수 저장\n",
    "# scoreList에 점수 저장\n",
    "# maxScore에 scoreList의 최댓값 저장\n",
    "# scoreList의 수정된 점수를 newScore에 저장\n",
    "# newScore와 평균 점수 출력\n",
    "\n",
    "n = int(input('과목 수: '))\n",
    "scoreList = list(map(int, input('점수 입력: ').split()))\n",
    "maxScore = max(scoreList)\n",
    "\n",
    "print(scoreList) # 입력한 점수 출력\n",
    "\n",
    "for i in range(n) :\n",
    "    scoreList[i] = scoreList[i] * 100 / maxScore\n",
    "\n",
    "sumScore = sum(scoreList) # 수정된 점수의 합계 저장\n",
    "\n",
    "for i in range(n) : # 수정된 점수를 각각의 줄에 출력\n",
    "    print(scoreList[i])\n",
    "print(sumScore / n) # 수정된 점수의 평균 출력"
   ]
  },
  {
   "cell_type": "code",
   "execution_count": 8,
   "metadata": {},
   "outputs": [
    {
     "name": "stdout",
     "output_type": "stream",
     "text": [
      "12\n",
      "9\n",
      "1\n"
     ]
    }
   ],
   "source": [
    "suNo, quizNo = map(int, input('수강생 수, 퀴즈 수').split()) # 수강생 수와 퀴즈 수를 입력받음\n",
    "nums = list(map(int, input('수강생 점수').split())) # 각 수강생의 점수를 입력받음\n",
    "prefixSum = [0] # 누적합을 저장할 리스트\n",
    "temp = 0 # 누적합을 저장할 변수\n",
    "\n",
    "for i in nums :\n",
    "    temp += i\n",
    "    prefixSum.append(temp)\n",
    "\n",
    "for i in range(quizNo) :\n",
    "    s, e = map(int, input('시작점, 종료점').split()) # s: 시작점, e: 종료점\n",
    "    print(prefixSum[e] - prefixSum[s - 1])"
   ]
  },
  {
   "cell_type": "code",
   "execution_count": 23,
   "metadata": {},
   "outputs": [],
   "source": [
    "# 리스트의 행 개수 n, 질의의 개수 m 입력받기\n",
    "# 이차원 리스트 A에 저장할 값 입력받기\n",
    "# A의 구간합을 이차원 리스트 D에 저장\n",
    "# for i in m : print()로 출력\n",
    "\n",
    "sizeN, cntM = map(int, input('N, M').split())\n",
    "A = [[0] * (sizeN + 1)]\n",
    "D = [[0] * (sizeN + 1) for i in range(sizeN + 1)]\n",
    "\n",
    "for i in range(sizeN) :\n",
    "    A.append([0] + list(map(int, input().split())))\n"
   ]
  },
  {
   "cell_type": "code",
   "execution_count": 26,
   "metadata": {},
   "outputs": [],
   "source": [
    "for i in range(1, sizeN + 1) :\n",
    "    for j in range(1, sizeN + 1) :\n",
    "        D[i][j] = D[i][j - 1] + D[i - 1][j] - D[i - 1][j - 1] + A[i][j]"
   ]
  },
  {
   "cell_type": "code",
   "execution_count": 27,
   "metadata": {},
   "outputs": [
    {
     "name": "stdout",
     "output_type": "stream",
     "text": [
      "27\n",
      "6\n",
      "64\n"
     ]
    },
    {
     "ename": "ValueError",
     "evalue": "not enough values to unpack (expected 4, got 0)",
     "output_type": "error",
     "traceback": [
      "\u001b[1;31m---------------------------------------------------------------------------\u001b[0m",
      "\u001b[1;31mValueError\u001b[0m                                Traceback (most recent call last)",
      "Cell \u001b[1;32mIn[27], line 2\u001b[0m\n\u001b[0;32m      1\u001b[0m \u001b[39mfor\u001b[39;00m i \u001b[39min\u001b[39;00m \u001b[39mrange\u001b[39m(sizeN) :\n\u001b[1;32m----> 2\u001b[0m     x1, y1, x2, y2 \u001b[39m=\u001b[39m \u001b[39mmap\u001b[39m(\u001b[39mint\u001b[39m, \u001b[39minput\u001b[39m()\u001b[39m.\u001b[39msplit())\n\u001b[0;32m      3\u001b[0m     result \u001b[39m=\u001b[39m D[x2][y2] \u001b[39m-\u001b[39m D[x1 \u001b[39m-\u001b[39m \u001b[39m1\u001b[39m][y2] \u001b[39m-\u001b[39m D[x2][y1 \u001b[39m-\u001b[39m \u001b[39m1\u001b[39m] \u001b[39m+\u001b[39m D[x1 \u001b[39m-\u001b[39m \u001b[39m1\u001b[39m][y1 \u001b[39m-\u001b[39m \u001b[39m1\u001b[39m]\n\u001b[0;32m      4\u001b[0m     \u001b[39mprint\u001b[39m(result)\n",
      "\u001b[1;31mValueError\u001b[0m: not enough values to unpack (expected 4, got 0)"
     ]
    }
   ],
   "source": [
    "for i in range(cntM) :\n",
    "    x1, y1, x2, y2 = map(int, input().split())\n",
    "    result = D[x2][y2] - D[x1 - 1][y2] - D[x2][y1 - 1] + D[x1 - 1][y1 - 1]\n",
    "    print(result)"
   ]
  },
  {
   "cell_type": "code",
   "execution_count": 20,
   "metadata": {},
   "outputs": [
    {
     "name": "stdout",
     "output_type": "stream",
     "text": [
      "[[ 0  0  0  0  0]\n",
      " [ 0  1  2  3  4]\n",
      " [ 0  5  6  7  8]\n",
      " [ 0  9 10 11 12]\n",
      " [ 0 13 14 15 16]]\n",
      "\n",
      "[[  0   0   0   0   0]\n",
      " [  0   1   3   6  10]\n",
      " [  0   6  14  24  36]\n",
      " [  0  15  33  54  78]\n",
      " [  0  28  60  96 136]]\n"
     ]
    }
   ],
   "source": [
    "import numpy as np\n",
    "\n",
    "print(np.array(A))\n",
    "print()\n",
    "print(np.array(D))"
   ]
  }
 ],
 "metadata": {
  "kernelspec": {
   "display_name": "base",
   "language": "python",
   "name": "python3"
  },
  "language_info": {
   "codemirror_mode": {
    "name": "ipython",
    "version": 3
   },
   "file_extension": ".py",
   "mimetype": "text/x-python",
   "name": "python",
   "nbconvert_exporter": "python",
   "pygments_lexer": "ipython3",
   "version": "3.11.4"
  },
  "orig_nbformat": 4
 },
 "nbformat": 4,
 "nbformat_minor": 2
}
