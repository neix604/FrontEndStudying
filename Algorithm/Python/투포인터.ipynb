{
 "cells": [
  {
   "cell_type": "markdown",
   "metadata": {},
   "source": [
    "# [2018번: 수들의 합](https://www.acmicpc.net/problem/2018)"
   ]
  },
  {
   "cell_type": "code",
   "execution_count": 9,
   "metadata": {},
   "outputs": [
    {
     "name": "stdout",
     "output_type": "stream",
     "text": [
      "4\n"
     ]
    }
   ],
   "source": [
    "\"\"\" n = int(input()) \"\"\"\n",
    "N = 15\n",
    "\n",
    "cnt = 1\n",
    "startIndex = 1\n",
    "endIndex = 1\n",
    "sumN = 1\n",
    "\n",
    "for i in range(N) :\n",
    "    if sumN == N :\n",
    "        cnt += 1\n",
    "        endIndex += 1\n",
    "        sumN += endIndex\n",
    "    elif sumN > N :\n",
    "        sumN -= startIndex\n",
    "        startIndex += 1\n",
    "    else :\n",
    "        endIndex += 1\n",
    "        sumN += endIndex\n",
    "\n",
    "print(cnt)"
   ]
  }
 ],
 "metadata": {
  "kernelspec": {
   "display_name": "base",
   "language": "python",
   "name": "python3"
  },
  "language_info": {
   "codemirror_mode": {
    "name": "ipython",
    "version": 3
   },
   "file_extension": ".py",
   "mimetype": "text/x-python",
   "name": "python",
   "nbconvert_exporter": "python",
   "pygments_lexer": "ipython3",
   "version": "3.11.4"
  },
  "orig_nbformat": 4
 },
 "nbformat": 4,
 "nbformat_minor": 2
}
